{
 "cells": [
  {
   "cell_type": "markdown",
   "metadata": {},
   "source": [
    "## Homework\n",
    "1- Aplicar alguna técnica de detección de Outliers en la tabla venta, sobre los campos Precio y Cantidad. Realizar diversas consultas para verificar la importancia de haber detectado Outliers. Por ejemplo ventas por sucursal en un período teniendo en cuenta outliers y descartándolos.\n"
   ]
  },
  {
   "cell_type": "markdown",
   "metadata": {},
   "source": [
    "Si quitando los outliers el promedio de ventas de modifica drasticamente, su importancia es alta. De lo contrario se consideran normales."
   ]
  },
  {
   "cell_type": "code",
   "execution_count": 3,
   "metadata": {},
   "outputs": [],
   "source": [
    "## Importar librerías necesarias\n",
    "\n",
    "import pandas as pd\n",
    "import matplotlib.pyplot as plt"
   ]
  },
  {
   "cell_type": "code",
   "execution_count": 11,
   "metadata": {},
   "outputs": [
    {
     "data": {
      "text/html": [
       "<div>\n",
       "<style scoped>\n",
       "    .dataframe tbody tr th:only-of-type {\n",
       "        vertical-align: middle;\n",
       "    }\n",
       "\n",
       "    .dataframe tbody tr th {\n",
       "        vertical-align: top;\n",
       "    }\n",
       "\n",
       "    .dataframe thead th {\n",
       "        text-align: right;\n",
       "    }\n",
       "</style>\n",
       "<table border=\"1\" class=\"dataframe\">\n",
       "  <thead>\n",
       "    <tr style=\"text-align: right;\">\n",
       "      <th></th>\n",
       "      <th>IdVenta</th>\n",
       "      <th>Fecha</th>\n",
       "      <th>Fecha_Entrega</th>\n",
       "      <th>IdCanal</th>\n",
       "      <th>IdCliente</th>\n",
       "      <th>IdSucursal</th>\n",
       "      <th>IdEmpleado</th>\n",
       "      <th>IdProducto</th>\n",
       "      <th>Precio</th>\n",
       "      <th>Cantidad</th>\n",
       "      <th>promedio</th>\n",
       "      <th>maximo</th>\n",
       "    </tr>\n",
       "  </thead>\n",
       "  <tbody>\n",
       "    <tr>\n",
       "      <th>0</th>\n",
       "      <td>51</td>\n",
       "      <td>2016-07-18</td>\n",
       "      <td>2016-07-21</td>\n",
       "      <td>1</td>\n",
       "      <td>1230</td>\n",
       "      <td>13</td>\n",
       "      <td>13001674</td>\n",
       "      <td>42788</td>\n",
       "      <td>42196</td>\n",
       "      <td>2</td>\n",
       "      <td>1486.27</td>\n",
       "      <td>21233.39</td>\n",
       "    </tr>\n",
       "    <tr>\n",
       "      <th>1</th>\n",
       "      <td>165</td>\n",
       "      <td>2020-04-01</td>\n",
       "      <td>2020-04-05</td>\n",
       "      <td>2</td>\n",
       "      <td>2823</td>\n",
       "      <td>13</td>\n",
       "      <td>13001674</td>\n",
       "      <td>42890</td>\n",
       "      <td>51500</td>\n",
       "      <td>2</td>\n",
       "      <td>1228.08</td>\n",
       "      <td>19189.97</td>\n",
       "    </tr>\n",
       "    <tr>\n",
       "      <th>2</th>\n",
       "      <td>238</td>\n",
       "      <td>2016-11-09</td>\n",
       "      <td>2016-11-12</td>\n",
       "      <td>1</td>\n",
       "      <td>2838</td>\n",
       "      <td>13</td>\n",
       "      <td>13001516</td>\n",
       "      <td>42942</td>\n",
       "      <td>274900</td>\n",
       "      <td>2</td>\n",
       "      <td>9510.52</td>\n",
       "      <td>136592.84</td>\n",
       "    </tr>\n",
       "    <tr>\n",
       "      <th>3</th>\n",
       "      <td>534</td>\n",
       "      <td>2019-06-03</td>\n",
       "      <td>2019-06-08</td>\n",
       "      <td>1</td>\n",
       "      <td>3237</td>\n",
       "      <td>13</td>\n",
       "      <td>13001330</td>\n",
       "      <td>42798</td>\n",
       "      <td>155628</td>\n",
       "      <td>2</td>\n",
       "      <td>2576.62</td>\n",
       "      <td>40066.40</td>\n",
       "    </tr>\n",
       "    <tr>\n",
       "      <th>4</th>\n",
       "      <td>545</td>\n",
       "      <td>2015-03-17</td>\n",
       "      <td>2015-03-20</td>\n",
       "      <td>2</td>\n",
       "      <td>3159</td>\n",
       "      <td>13</td>\n",
       "      <td>13001330</td>\n",
       "      <td>42839</td>\n",
       "      <td>35332</td>\n",
       "      <td>2</td>\n",
       "      <td>1048.26</td>\n",
       "      <td>15691.57</td>\n",
       "    </tr>\n",
       "  </tbody>\n",
       "</table>\n",
       "</div>"
      ],
      "text/plain": [
       "   IdVenta       Fecha Fecha_Entrega  IdCanal  IdCliente  IdSucursal  \\\n",
       "0       51  2016-07-18    2016-07-21        1       1230          13   \n",
       "1      165  2020-04-01    2020-04-05        2       2823          13   \n",
       "2      238  2016-11-09    2016-11-12        1       2838          13   \n",
       "3      534  2019-06-03    2019-06-08        1       3237          13   \n",
       "4      545  2015-03-17    2015-03-20        2       3159          13   \n",
       "\n",
       "   IdEmpleado  IdProducto  Precio  Cantidad  promedio     maximo  \n",
       "0    13001674       42788   42196         2   1486.27   21233.39  \n",
       "1    13001674       42890   51500         2   1228.08   19189.97  \n",
       "2    13001516       42942  274900         2   9510.52  136592.84  \n",
       "3    13001330       42798  155628         2   2576.62   40066.40  \n",
       "4    13001330       42839   35332         2   1048.26   15691.57  "
      ]
     },
     "execution_count": 11,
     "metadata": {},
     "output_type": "execute_result"
    }
   ],
   "source": [
    "## Creamos el DataFrame\n",
    "df1_outlier_max = pd.read_csv('./Exports Mios/Venta_OutlierMax_Precio_cant.csv')\n",
    "df1_outlier_max.head()"
   ]
  },
  {
   "cell_type": "code",
   "execution_count": 26,
   "metadata": {},
   "outputs": [
    {
     "data": {
      "text/plain": [
       "<AxesSubplot: xlabel='IdProducto', ylabel='maximo'>"
      ]
     },
     "execution_count": 26,
     "metadata": {},
     "output_type": "execute_result"
    },
    {
     "data": {
      "image/png": "[encoded data removed]",
      "text/plain": [
       "<Figure size 640x480 with 1 Axes>"
      ]
     },
     "metadata": {},
     "output_type": "display_data"
    }
   ],
   "source": [
    "## Mostramos el grafico de los Outliers maximos mostrando por IdProducto y los Outliers máximos.\n",
    "df1_outlier_max.plot.scatter(x='IdProducto', y='maximo', alpha=0.5)"
   ]
  },
  {
   "cell_type": "code",
   "execution_count": 28,
   "metadata": {},
   "outputs": [
    {
     "data": {
      "text/plain": [
       "<AxesSubplot: xlabel='maximo', ylabel='promedio'>"
      ]
     },
     "execution_count": 28,
     "metadata": {},
     "output_type": "execute_result"
    },
    {
     "data": {
      "image/png": "[encoded data removed]",
      "text/plain": [
       "<Figure size 640x480 with 1 Axes>"
      ]
     },
     "metadata": {},
     "output_type": "display_data"
    }
   ],
   "source": [
    "## Mostramos el grafico de los Outliers maximos mostrando por promedios y los Outliers máximos.\n",
    "df1_outlier_max.plot.scatter(y='promedio', x='maximo', alpha=0.5)"
   ]
  },
  {
   "cell_type": "markdown",
   "metadata": {},
   "source": [
    "    Es importante el análisis de Outliers porque en casos de ciertos productos, cuando se calcula el promedio, si hay una falla en la distinción de un número decimal o entero como puede ser 550.15 con 55015, el mismo tiende a elevarse por mucho mas de lo que en realidad debería ser. Si nosotros eliminamos estos outliers, obtenemos un promedio mucho mas cercano a su valor real."
   ]
  },
  {
   "cell_type": "markdown",
   "metadata": {},
   "source": [
    "2- Es necesario armar un proceso, mediante el cual podamos integrar todas las fuentes, aplicar las transformaciones o reglas de negocio necesarias a los datos y generar el modelo final que va a ser consumido desde los reportes. Este proceso debe ser claro y autodocumentado. ¿Se puede armar un esquema, donde sea posible detectar con mayor facilidad futuros errores en los datos?\n"
   ]
  },
  {
   "cell_type": "markdown",
   "metadata": {},
   "source": [
    "    Si, se puede. Habría que crear un manual con definicones de los procesos que se utilizaron, como por ejemplo definir una columna motivo en el cual se especifique el motivo de una falla o falta de dato.\n",
    "    En este caso, los motivos;\n",
    "\n",
    "        1. Figuran ventas con cantidad cero.\n",
    "        2. Outliers de la columna Cantidad.\n",
    "        3. Outliers de la columna Precios."
   ]
  },
  {
   "cell_type": "code",
   "execution_count": 31,
   "metadata": {},
   "outputs": [
    {
     "data": {
      "text/html": [
       "<div>\n",
       "<style scoped>\n",
       "    .dataframe tbody tr th:only-of-type {\n",
       "        vertical-align: middle;\n",
       "    }\n",
       "\n",
       "    .dataframe tbody tr th {\n",
       "        vertical-align: top;\n",
       "    }\n",
       "\n",
       "    .dataframe thead th {\n",
       "        text-align: right;\n",
       "    }\n",
       "</style>\n",
       "<table border=\"1\" class=\"dataframe\">\n",
       "  <thead>\n",
       "    <tr style=\"text-align: right;\">\n",
       "      <th></th>\n",
       "      <th>IdVenta</th>\n",
       "      <th>Fecha</th>\n",
       "      <th>Fecha_Entrega</th>\n",
       "      <th>IdCliente</th>\n",
       "      <th>IdSucursal</th>\n",
       "      <th>IdEmpleado</th>\n",
       "      <th>IdProducto</th>\n",
       "      <th>Precio</th>\n",
       "      <th>Cantidad</th>\n",
       "      <th>Motivo</th>\n",
       "    </tr>\n",
       "  </thead>\n",
       "  <tbody>\n",
       "    <tr>\n",
       "      <th>0</th>\n",
       "      <td>72</td>\n",
       "      <td>2018-08-22</td>\n",
       "      <td>2018-09-01</td>\n",
       "      <td>1185</td>\n",
       "      <td>13</td>\n",
       "      <td>1674</td>\n",
       "      <td>42779</td>\n",
       "      <td>9555.04</td>\n",
       "      <td>0</td>\n",
       "      <td>1</td>\n",
       "    </tr>\n",
       "    <tr>\n",
       "      <th>1</th>\n",
       "      <td>105</td>\n",
       "      <td>2017-10-28</td>\n",
       "      <td>2017-11-02</td>\n",
       "      <td>1107</td>\n",
       "      <td>13</td>\n",
       "      <td>1674</td>\n",
       "      <td>42822</td>\n",
       "      <td>816.86</td>\n",
       "      <td>0</td>\n",
       "      <td>1</td>\n",
       "    </tr>\n",
       "    <tr>\n",
       "      <th>2</th>\n",
       "      <td>154</td>\n",
       "      <td>2019-01-17</td>\n",
       "      <td>2019-01-21</td>\n",
       "      <td>1416</td>\n",
       "      <td>13</td>\n",
       "      <td>1674</td>\n",
       "      <td>42927</td>\n",
       "      <td>91.00</td>\n",
       "      <td>0</td>\n",
       "      <td>1</td>\n",
       "    </tr>\n",
       "    <tr>\n",
       "      <th>3</th>\n",
       "      <td>183</td>\n",
       "      <td>2016-11-28</td>\n",
       "      <td>2016-12-03</td>\n",
       "      <td>1426</td>\n",
       "      <td>13</td>\n",
       "      <td>1674</td>\n",
       "      <td>43016</td>\n",
       "      <td>454.00</td>\n",
       "      <td>0</td>\n",
       "      <td>1</td>\n",
       "    </tr>\n",
       "    <tr>\n",
       "      <th>4</th>\n",
       "      <td>190</td>\n",
       "      <td>2017-10-03</td>\n",
       "      <td>2017-10-04</td>\n",
       "      <td>908</td>\n",
       "      <td>13</td>\n",
       "      <td>1674</td>\n",
       "      <td>42977</td>\n",
       "      <td>111.00</td>\n",
       "      <td>0</td>\n",
       "      <td>1</td>\n",
       "    </tr>\n",
       "    <tr>\n",
       "      <th>...</th>\n",
       "      <td>...</td>\n",
       "      <td>...</td>\n",
       "      <td>...</td>\n",
       "      <td>...</td>\n",
       "      <td>...</td>\n",
       "      <td>...</td>\n",
       "      <td>...</td>\n",
       "      <td>...</td>\n",
       "      <td>...</td>\n",
       "      <td>...</td>\n",
       "    </tr>\n",
       "    <tr>\n",
       "      <th>3441</th>\n",
       "      <td>48103</td>\n",
       "      <td>2020-12-14</td>\n",
       "      <td>2020-12-17</td>\n",
       "      <td>1522</td>\n",
       "      <td>24</td>\n",
       "      <td>24003433</td>\n",
       "      <td>42790</td>\n",
       "      <td>762.96</td>\n",
       "      <td>2</td>\n",
       "      <td>3</td>\n",
       "    </tr>\n",
       "    <tr>\n",
       "      <th>3442</th>\n",
       "      <td>48186</td>\n",
       "      <td>2020-12-26</td>\n",
       "      <td>2020-12-31</td>\n",
       "      <td>1147</td>\n",
       "      <td>14</td>\n",
       "      <td>14001530</td>\n",
       "      <td>42917</td>\n",
       "      <td>1351.35</td>\n",
       "      <td>2</td>\n",
       "      <td>3</td>\n",
       "    </tr>\n",
       "    <tr>\n",
       "      <th>3443</th>\n",
       "      <td>48191</td>\n",
       "      <td>2020-12-26</td>\n",
       "      <td>2021-01-03</td>\n",
       "      <td>3346</td>\n",
       "      <td>11</td>\n",
       "      <td>11002467</td>\n",
       "      <td>42764</td>\n",
       "      <td>1385.78</td>\n",
       "      <td>3</td>\n",
       "      <td>3</td>\n",
       "    </tr>\n",
       "    <tr>\n",
       "      <th>3444</th>\n",
       "      <td>48217</td>\n",
       "      <td>2020-12-29</td>\n",
       "      <td>2021-01-01</td>\n",
       "      <td>1793</td>\n",
       "      <td>1</td>\n",
       "      <td>1001725</td>\n",
       "      <td>42764</td>\n",
       "      <td>1385.78</td>\n",
       "      <td>2</td>\n",
       "      <td>3</td>\n",
       "    </tr>\n",
       "    <tr>\n",
       "      <th>3445</th>\n",
       "      <td>48222</td>\n",
       "      <td>2020-12-29</td>\n",
       "      <td>2021-01-01</td>\n",
       "      <td>176</td>\n",
       "      <td>9</td>\n",
       "      <td>9002212</td>\n",
       "      <td>42790</td>\n",
       "      <td>762.96</td>\n",
       "      <td>1</td>\n",
       "      <td>3</td>\n",
       "    </tr>\n",
       "  </tbody>\n",
       "</table>\n",
       "<p>3446 rows × 10 columns</p>\n",
       "</div>"
      ],
      "text/plain": [
       "      IdVenta       Fecha Fecha_Entrega  IdCliente  IdSucursal  IdEmpleado  \\\n",
       "0          72  2018-08-22    2018-09-01       1185          13        1674   \n",
       "1         105  2017-10-28    2017-11-02       1107          13        1674   \n",
       "2         154  2019-01-17    2019-01-21       1416          13        1674   \n",
       "3         183  2016-11-28    2016-12-03       1426          13        1674   \n",
       "4         190  2017-10-03    2017-10-04        908          13        1674   \n",
       "...       ...         ...           ...        ...         ...         ...   \n",
       "3441    48103  2020-12-14    2020-12-17       1522          24    24003433   \n",
       "3442    48186  2020-12-26    2020-12-31       1147          14    14001530   \n",
       "3443    48191  2020-12-26    2021-01-03       3346          11    11002467   \n",
       "3444    48217  2020-12-29    2021-01-01       1793           1     1001725   \n",
       "3445    48222  2020-12-29    2021-01-01        176           9     9002212   \n",
       "\n",
       "      IdProducto   Precio  Cantidad  Motivo  \n",
       "0          42779  9555.04         0       1  \n",
       "1          42822   816.86         0       1  \n",
       "2          42927    91.00         0       1  \n",
       "3          43016   454.00         0       1  \n",
       "4          42977   111.00         0       1  \n",
       "...          ...      ...       ...     ...  \n",
       "3441       42790   762.96         2       3  \n",
       "3442       42917  1351.35         2       3  \n",
       "3443       42764  1385.78         3       3  \n",
       "3444       42764  1385.78         2       3  \n",
       "3445       42790   762.96         1       3  \n",
       "\n",
       "[3446 rows x 10 columns]"
      ]
     },
     "execution_count": 31,
     "metadata": {},
     "output_type": "execute_result"
    }
   ],
   "source": [
    "## Previsualizamos la tabla hecha con SQL, y vemos los datos necesarios para acceder a ellos con sus motivos respectivos que hacen que se encuentren en la tabla de ventas auxiliares (Donde almacenamos las \"fallas\" o datos faltantes).\n",
    "df2_aux_ventas = pd.read_csv('./Exports Mios/Aux_venta.csv')\n",
    "df2_aux_ventas "
   ]
  },
  {
   "cell_type": "markdown",
   "metadata": {},
   "source": [
    "3- Elaborar 3 KPIs del negocio. Tener en cuenta que deben ser métricas fácilmente graficables, por lo tanto debemos asegurarnos de contar con los datos adecuados. "
   ]
  },
  {
   "cell_type": "markdown",
   "metadata": {},
   "source": [
    "    Realizamos:\n",
    "\n",
    "        - KPI de Mayor cantidad de ventas por categoría.\n",
    "        - Muestra de ventas con y sin Outliers.\n",
    "        - KPI: Margen de Ganancia por producto superior a 20%."
   ]
  },
  {
   "cell_type": "markdown",
   "metadata": {},
   "source": [
    "- ¿Necesito tener en claro las métricas que voy a utilizar?"
   ]
  },
  {
   "cell_type": "markdown",
   "metadata": {},
   "source": [
    "    Si, se necesitan tener en claro porque es necesario para la comprensión de las tablas y la manera de relacionarlas a fin de obtener KPI final."
   ]
  },
  {
   "cell_type": "markdown",
   "metadata": {},
   "source": [
    " - ¿La métrica necesaria debe tener algún filtro en especial?"
   ]
  },
  {
   "cell_type": "markdown",
   "metadata": {},
   "source": [
    "    Si, el filtro que se considere necesario segun el KPI que se quiera hacer. Por ejemplo:\n",
    "        - Si se quiere mostrar la categoría de productos que mas cantidad de ventas tuvo, el filtro de la metrica sería realizar la sumatoria de todas las ventas FILTRADAS por esa categoría."
   ]
  },
  {
   "cell_type": "markdown",
   "metadata": {},
   "source": [
    "-  La Meta que se definió ¿se calcula con la misma métrica?"
   ]
  },
  {
   "cell_type": "markdown",
   "metadata": {},
   "source": [
    "    Si."
   ]
  }
 ],
 "metadata": {
  "kernelspec": {
   "display_name": "Python 3.11.0 64-bit",
   "language": "python",
   "name": "python3"
  },
  "language_info": {
   "codemirror_mode": {
    "name": "ipython",
    "version": 3
   },
   "file_extension": ".py",
   "mimetype": "text/x-python",
   "name": "python",
   "nbconvert_exporter": "python",
   "pygments_lexer": "ipython3",
   "version": "3.11.0"
  },
  "orig_nbformat": 4,
  "vscode": {
   "interpreter": {
    "hash": "31f2aee4e71d21fbe5cf8b01ff0e069b9275f58929596ceb00d14d90e3e16cd6"
   }
  }
 },
 "nbformat": 4,
 "nbformat_minor": 2
}
