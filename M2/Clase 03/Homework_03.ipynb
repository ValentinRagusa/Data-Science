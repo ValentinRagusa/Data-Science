{
 "cells": [
  {
   "cell_type": "markdown",
   "metadata": {},
   "source": [
    "## Homework\n",
    "\n",
    "1. Suponga dos eventos, A y B, y que P(A) = 0.50, P(B) = 0.60 y P(A ∩ B) = 0.40.<br>\n",
    "- a. Halle P(A | B).\n",
    "- b. Halle P(B | A).\n",
    "- c. ¿A y B son independientes? ¿Por qué sí o por qué no?\n"
   ]
  },
  {
   "cell_type": "code",
   "execution_count": 7,
   "metadata": {},
   "outputs": [
    {
     "name": "stdout",
     "output_type": "stream",
     "text": [
      "a) El valor de P(A|B) es 0.67.\n",
      "b) El valor de P(B|A) es 0.8.\n",
      "c) A y B no son independientes ya que no cumplen con la igualdad P(A ∩ B) = P(A) x P(B):\n",
      "     P(A ∩ B) =      0.4\n",
      "     P(A) x P(B) =   0.3\n"
     ]
    }
   ],
   "source": [
    "## a)\n",
    "\n",
    "p_A = 0.5\n",
    "p_B = 0.6\n",
    "p_AyB = 0.4\n",
    "\n",
    "resultado_A = p_AyB / p_B\n",
    "print(f'a) El valor de P(A|B) es {round(resultado_A, 2)}.')\n",
    "\n",
    "## b)\n",
    "\n",
    "resultado_B = p_AyB / p_A\n",
    "print(f'b) El valor de P(B|A) es {round(resultado_B, 2)}.')\n",
    "\n",
    "## c)\n",
    "\n",
    "p_AyB = 0.4\n",
    "find_dependecy = p_A * p_B\n",
    "\n",
    "if find_dependecy != p_AyB:\n",
    "    print(\"c) A y B no son independientes ya que no cumplen con la igualdad P(A ∩ B) = P(A) x P(B):\")\n",
    "    print('     P(A ∩ B) =      0.4')\n",
    "    print('     P(A) x P(B) =   0.3')"
   ]
  },
  {
   "cell_type": "markdown",
   "metadata": {},
   "source": [
    "\n",
    "2. Suponga dos eventos, A y B, que son mutuamente excluyentes. Admita, además, que P(A) = 0.30 y P(B) = 0.40.<br>\n",
    "- a. Obtenga P(A ∩ B). ¿Existe intersección entre los dos conjuntos?.\n",
    "- b. Calcule P(A | B).\n",
    "- c. Un estudiante de estadística argumenta que los conceptos de eventos mutuamente excluyentes y eventos independientes son en realidad lo mismo y que si los eventos son mutuamente excluyentes deben ser también independientes. ¿Está usted de acuerdo? Use la información sobre las probabilidades para justificar su respuesta.\n",
    "\n",
    "\n"
   ]
  },
  {
   "cell_type": "code",
   "execution_count": 1,
   "metadata": {},
   "outputs": [
    {
     "name": "stdout",
     "output_type": "stream",
     "text": [
      "a) Por definición, no existen resultados mutuos entre los eventos lo que nos lleva a concluir que no existirá intersección alguna entre los mismos, siendo: P(A ∩ B) = 0. \n",
      "\n",
      "b) P(A ∩ B) = P(A). \n",
      "\n",
      "c) No está en lo correcto. No son lo mismo ya que en eventos mutuamente excluyentes, la ocurrencia de un evento resultará en la no ocurrencia del otro. Por el contrario, en eventos independientes, la ocurrencia de un evento no tendrá influencia en la ocurrencia del otro.\n"
     ]
    }
   ],
   "source": [
    "## a)\n",
    "print('a) Por definición, no existen resultados mutuos entre los eventos lo que nos lleva a concluir que no existirá intersección alguna entre los mismos, siendo: P(A ∩ B) = 0. \\n')\n",
    "\n",
    "## b)\n",
    "print('b) P(A ∩ B) = P(A). \\n')\n",
    "\n",
    "## c)\n",
    "print('c) No está en lo correcto. No son lo mismo ya que en eventos mutuamente excluyentes, la ocurrencia de un evento resultará en la no ocurrencia del otro. Por el contrario, en eventos independientes, la ocurrencia de un evento no tendrá influencia en la ocurrencia del otro.')\n",
    "\n"
   ]
  },
  {
   "cell_type": "markdown",
   "metadata": {},
   "source": [
    "\n",
    "Dada la siguiente tabla:<br>\n",
    "![Sucesos](../_src/assets/sucesos.PNG)<br>\n",
    "\n",
    "3. Si en la concesionaria se seleccionan dos ventas con reposición (Los sucesos son independientes.). Hallar la probabilidad de que las ventas sean:<br>\n",
    " \n",
    "  - a. La primera de un comprador de “menos de 40 años” y la segunda de uno de \"entre 40 y 50 años\". \n",
    "  \n",
    "  - b. las dos sean de autos \"nacionales\".\n",
    "\n"
   ]
  },
  {
   "cell_type": "code",
   "execution_count": 3,
   "metadata": {},
   "outputs": [
    {
     "name": "stdout",
     "output_type": "stream",
     "text": [
      "a) La probabilidad de que una persona de menos de 40 años y una persona entre 40 y 50 años compre un auto es de: 0.159375\n",
      "b) La probabilidad de que ambos grupos compren un auto de la categoría nacional es de: 0.390625\n"
     ]
    }
   ],
   "source": [
    "## a)\n",
    "# La probabilidad va a estar dada por la división de el total de cada sección por el total de los conjuntos. Siendo:\n",
    "\n",
    "tot_M40 = 30\n",
    "tot_E40_50 = 34\n",
    "mas_50 = 16\n",
    "total = 80\n",
    "\n",
    "# menos de 40\n",
    "resultado_A1 = tot_M40 / total\n",
    "resultado_A2 = tot_E40_50 / total\n",
    "resultadoA = resultado_A1 * resultado_A2\n",
    "\n",
    "print(f'a) La probabilidad de que una persona de menos de 40 años y una persona entre 40 y 50 años compre un auto es de: {resultadoA}')\n",
    "\n",
    "## b)\n",
    "\n",
    "tot_nacional = 50\n",
    "# P (N & N) = P(N) * P(N) = ((50/80) * (50/80)) = 0.3906\n",
    "resultado_B1 = ((50/80) * (50/80))\n",
    "\n",
    "print(f'b) La probabilidad de que ambos grupos compren un auto de la categoría nacional es de: {resultado_B1}')\n"
   ]
  },
  {
   "cell_type": "markdown",
   "metadata": {},
   "source": [
    "4. Si la selección de las dos ventas se realiza sin reposición. Hallar la probabilidad de que las ventas sean:<br>\n",
    "  Los sucesos son condicionales.\n",
    "\n",
    " - a. la primera de un comprador de “menos de 40 años” y la segunda de uno de \"entre 40 y 50 años\".\n",
    "\n",
    " - b. las dos sean de autos \"nacionales\".\n",
    "\n"
   ]
  },
  {
   "cell_type": "code",
   "execution_count": 20,
   "metadata": {},
   "outputs": [
    {
     "name": "stdout",
     "output_type": "stream",
     "text": [
      "a) La probabilidad de que un comprador de menos de 40 años y uno entre 40 y 50 años compren un vehiculo es de: 0.16.\n",
      "b) La probabilidad de que ambos grupos compren un vehículo de categoría nacional siendo eventos condicionales es de: 0.39.\n"
     ]
    }
   ],
   "source": [
    "## a)\n",
    "tot_M40 = 30\n",
    "tot_E40_50 = 34\n",
    "mas_50 = 16\n",
    "total = 80\n",
    "\n",
    "resultado_A = ((tot_M40 / total) * (tot_E40_50 / (total-1)))\n",
    "print(f'a) La probabilidad de que un comprador de menos de 40 años y uno entre 40 y 50 años compren un vehiculo es de: {round(resultado_A, 2)}.')\n",
    "\n",
    "## b)\n",
    "tot_nacional = 50\n",
    "resultado_B = ((tot_nacional / total) * ((tot_nacional-1) / (total-1)))\n",
    "\n",
    "print(f'b) La probabilidad de que ambos grupos compren un vehículo de categoría nacional siendo eventos condicionales es de: {round(resultado_B, 2)}.')\n"
   ]
  },
  {
   "cell_type": "markdown",
   "metadata": {},
   "source": [
    "5. Si la selección de las dos ventas se realiza sin reposición. Hallar la probabilidad de que las ventas sean:<br>\n",
    "  Los sucesos son condicionales.\n",
    "  \n",
    " - a. De un comprador de “menos de 40 años” y de uno de \"entre 40 y 50 años\".\n",
    "\n",
    " "
   ]
  },
  {
   "cell_type": "code",
   "execution_count": null,
   "metadata": {},
   "outputs": [],
   "source": [
    "## a)\n",
    "\n"
   ]
  },
  {
   "cell_type": "markdown",
   "metadata": {},
   "source": [
    "6. Debido al aumento de los costos de los seguros, en un país 43 millones de personas, hay personas que no cuentan con un seguro médico. En la tabla siguiente se muestran datos muestrales representativos de la cantidad de personas que cuentan con seguro médico:<br>\n",
    " ![Seguro](../_src/assets/seguro.PNG)\n",
    "\n",
    "- a. Con estos datos elabore una tabla de probabilidad conjunta y úsela para responder las preguntas restantes.\n",
    "- b. ¿Qué indican las probabilidades marginales acerca de la edad de la población?\n",
    "- c. ¿Cuál es la probabilidad de que una persona tomada en forma aleatoria no tenga seguro médico?\n",
    "- d. Si la persona tiene entre 18 y 34 años, ¿cuál es la probabilidad de que no tenga seguro médico?\n",
    "- e. Si la persona tiene 35 años o más ¿cuál es la probabilidad de que no tenga seguro médico?\n",
    "- f. Si la persona no tiene seguro médico, ¿cuál es la probabilidad de que tenga entre 18 y 34 años?\n",
    "\n",
    "#### Puedes complementar con los ejercicios del 33 al 40 del Capitula 4 del libro \"ESTADÍSTICA PARA ADMINISTRACIÓN Y ECONOMÍA\""
   ]
  },
  {
   "cell_type": "code",
   "execution_count": null,
   "metadata": {},
   "outputs": [],
   "source": []
  }
 ],
 "metadata": {
  "kernelspec": {
   "display_name": "Python 3.10.7 64-bit",
   "language": "python",
   "name": "python3"
  },
  "language_info": {
   "codemirror_mode": {
    "name": "ipython",
    "version": 3
   },
   "file_extension": ".py",
   "mimetype": "text/x-python",
   "name": "python",
   "nbconvert_exporter": "python",
   "pygments_lexer": "ipython3",
   "version": "3.10.7"
  },
  "orig_nbformat": 4,
  "vscode": {
   "interpreter": {
    "hash": "aee8b7b246df8f9039afb4144a1f6fd8d2ca17a180786b69acc140d282b71a49"
   }
  }
 },
 "nbformat": 4,
 "nbformat_minor": 2
}
