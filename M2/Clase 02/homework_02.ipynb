{
 "cells": [
  {
   "cell_type": "markdown",
   "metadata": {},
   "source": [
    "## Homework\n",
    "Utilizando Python cálcular las siguientes probabilidades. Para cada uno intenta determinar que método aplicaste.<br>\n",
    "\n",
    "1. Lanza una moneda al aire 10 veces, ¿cuantos resultados posibles forman parte del espacio muestral?.\n",
    "\n"
   ]
  },
  {
   "cell_type": "code",
   "execution_count": 4,
   "metadata": {},
   "outputs": [
    {
     "name": "stdout",
     "output_type": "stream",
     "text": [
      "Se pueden obtener 8 resultados posibles.\n"
     ]
    }
   ],
   "source": [
    "lanzamientos = int(input('Cuantas veces va a lanzar la moneda?: '))\n",
    "resultado = 2 ** lanzamientos\n",
    "print('Se pueden obtener', resultado, 'resultados posibles.')"
   ]
  },
  {
   "cell_type": "markdown",
   "metadata": {},
   "source": [
    "2. En un aeropuerto se tiene a 10 pasajeros esperando en la sala de preembarque, la polícia debe controlar a 3 de ellos. ¿Cuantas combinaciones posibles se pueden obtener?."
   ]
  },
  {
   "cell_type": "code",
   "execution_count": 6,
   "metadata": {},
   "outputs": [
    {
     "name": "stdout",
     "output_type": "stream",
     "text": [
      "120.0\n",
      "720.0\n"
     ]
    }
   ],
   "source": [
    "from math import factorial\n",
    "\n",
    "## Metodo Combinaciones\n",
    "control_aeropuerto = factorial(10) / (factorial(3) * factorial(10-3))\n",
    "print(control_aeropuerto)\n",
    "\n",
    "## Metodo Permutaciones\n",
    "control_aeropuerto2 = factorial(10) / (factorial(10-3))\n",
    "print(control_aeropuerto2)"
   ]
  },
  {
   "cell_type": "markdown",
   "metadata": {},
   "source": [
    "3. La Agencia Nacional de Seguridad Vial realizó una investigación para saber si los conductores de están usando sus cinturones de seguridad. Los datos muestrales fueron los siguientes:<br>\n",
    "Conductores que emplean el cinturón <br>\n",
    "\n",
    "![Ejercicio](../_src/assets/ejercicio3.PNG)\n",
    "\n",
    "- a) ¿Qué metodo cree que se utilizo para asignar probabilidades?.\n",
    "- b) Construya un cuadro similar, pero con la asignación de probabilidades.\n",
    "- c) ¿Cuál sería el mejor método pára estimar la probabilidad de que en Estados Unidos un conductor lleve puesto el cinturón?.\n",
    "- d) Un año antes, la probabilidad en Argentina de que un conductor llevara puesto el cinturón era 0.75. El director de ANSV, se esperaba que la probabilidad llegara a 0.78. ¿Estará satisfecho con los resultados del estudio? (Utilizar tabla adjunta (![Ejercicio](../_src/assets/ejercicio3.PNG))\n",
    "- e) ¿Cuál es la probabilidad de que se use el cinturón en las distintas regiones del país? ¿En qué región se usa más el cinturón?(Utilizar misma tabla que el ejercicio anterior).\n"
   ]
  },
  {
   "cell_type": "code",
   "execution_count": 7,
   "metadata": {},
   "outputs": [],
   "source": [
    "## a) Se utilizó el metodo frecuencista."
   ]
  },
  {
   "cell_type": "code",
   "execution_count": 35,
   "metadata": {},
   "outputs": [
    {
     "name": "stdout",
     "output_type": "stream",
     "text": [
      "{'Si': [148, 162, 296, 252], 'No': [52, 54, 74, 48]}\n"
     ]
    },
    {
     "data": {
      "text/html": [
       "<div>\n",
       "<style scoped>\n",
       "    .dataframe tbody tr th:only-of-type {\n",
       "        vertical-align: middle;\n",
       "    }\n",
       "\n",
       "    .dataframe tbody tr th {\n",
       "        vertical-align: top;\n",
       "    }\n",
       "\n",
       "    .dataframe thead th {\n",
       "        text-align: right;\n",
       "    }\n",
       "</style>\n",
       "<table border=\"1\" class=\"dataframe\">\n",
       "  <thead>\n",
       "    <tr style=\"text-align: right;\">\n",
       "      <th></th>\n",
       "      <th>Si</th>\n",
       "      <th>No</th>\n",
       "      <th>Total</th>\n",
       "    </tr>\n",
       "  </thead>\n",
       "  <tbody>\n",
       "    <tr>\n",
       "      <th>Norte</th>\n",
       "      <td>0.136280</td>\n",
       "      <td>0.047882</td>\n",
       "      <td>0.184162</td>\n",
       "    </tr>\n",
       "    <tr>\n",
       "      <th>Noreste</th>\n",
       "      <td>0.149171</td>\n",
       "      <td>0.049724</td>\n",
       "      <td>0.198895</td>\n",
       "    </tr>\n",
       "    <tr>\n",
       "      <th>Sur</th>\n",
       "      <td>0.272560</td>\n",
       "      <td>0.068140</td>\n",
       "      <td>0.340700</td>\n",
       "    </tr>\n",
       "    <tr>\n",
       "      <th>Sureste</th>\n",
       "      <td>0.232044</td>\n",
       "      <td>0.044199</td>\n",
       "      <td>0.276243</td>\n",
       "    </tr>\n",
       "    <tr>\n",
       "      <th>Total</th>\n",
       "      <td>0.790055</td>\n",
       "      <td>0.209945</td>\n",
       "      <td>1.000000</td>\n",
       "    </tr>\n",
       "  </tbody>\n",
       "</table>\n",
       "</div>"
      ],
      "text/plain": [
       "               Si        No     Total\n",
       "Norte    0.136280  0.047882  0.184162\n",
       "Noreste  0.149171  0.049724  0.198895\n",
       "Sur      0.272560  0.068140  0.340700\n",
       "Sureste  0.232044  0.044199  0.276243\n",
       "Total    0.790055  0.209945  1.000000"
      ]
     },
     "execution_count": 35,
     "metadata": {},
     "output_type": "execute_result"
    }
   ],
   "source": [
    "## b)\n",
    "import pandas as pd\n",
    "region = ['Norte', 'Noreste', 'Sur', 'Sureste']\n",
    "cinto_si = [148, 162, 296, 252]\n",
    "cinto_no = [52, 54, 74, 48]\n",
    "data = dict(Si = cinto_si, No = cinto_no)\n",
    "print(data)\n",
    "tablaComparativa = pd.DataFrame(data, index=region)\n",
    "tablaComparativa = tablaComparativa / (sum(tablaComparativa.sum()))\n",
    "tablaComparativa.loc[5] = sum(tablaComparativa.Si), sum(tablaComparativa.No)\n",
    "tablaComparativa = tablaComparativa.rename(index={5: 'Total'})\n",
    "tablaComparativa = tablaComparativa.assign(Total = tablaComparativa.Si + tablaComparativa.No)\n",
    "\n",
    "tablaComparativa\n",
    "\n",
    "## c) El mejor metodo para estimar el mismo estudio en estados unidos tambien sería el metodo frecuencista.\n",
    "## d) Si, estará satisfecho, ya que la probabilidad total es de 0.79.\n",
    "## e) La probabilidad de que se use el cinturon en distintas partes del país es de 0.79, siendo la mas alta en la region sur con 0.34 de probabilidad total para dicha region."
   ]
  },
  {
   "cell_type": "markdown",
   "metadata": {},
   "source": [
    "\n",
    "4. Crear una funcion que permita calcular a probabilidad de los siguientes eventos en un baraja de 52 cartas.<br>\n",
    "- Obtener una carta roja.<br>\n",
    "- Obtener una carta negra.<br>\n",
    "- Obtener una pica.<br>\n",
    "- Obtener un trébol.<br>\n",
    "- Obtener un corazón.<br>\n",
    "- Obtener un diamante.<br>"
   ]
  },
  {
   "cell_type": "code",
   "execution_count": 30,
   "metadata": {},
   "outputs": [
    {
     "data": {
      "text/plain": [
       "0.5"
      ]
     },
     "execution_count": 30,
     "metadata": {},
     "output_type": "execute_result"
    }
   ],
   "source": [
    "def obtenerCarta(tipo):\n",
    "    cartasTotales = 52\n",
    "    cartaColor = 26\n",
    "    cartaTipo = 13\n",
    "    if tipo == 'rojo' or tipo == 'negro':\n",
    "        return cartaColor / cartasTotales\n",
    "    elif tipo in ('pica', 'trebol', 'corazon', 'diamante'):\n",
    "      return cartaTipo / cartasTotales\n",
    "\n",
    "obtenerCarta('rojo')\n",
    "#obtenerCarta('pica')"
   ]
  },
  {
   "cell_type": "markdown",
   "metadata": {},
   "source": [
    "\n",
    "5. La probabilidad de que salga un 7 o un 8 al seleccionar una carta de una baraja de las 52 cartas que contiene el mazo. <br>"
   ]
  },
  {
   "cell_type": "code",
   "execution_count": 25,
   "metadata": {},
   "outputs": [
    {
     "data": {
      "text/plain": [
       "0.15384615384615385"
      ]
     },
     "execution_count": 25,
     "metadata": {},
     "output_type": "execute_result"
    }
   ],
   "source": [
    "## Hay 4 cartas con el numero 7 y cuatro cartas con el numero 8, por lo que sumamos ambas probabilidades:\n",
    "\n",
    "prob_carta_7 = 4/52 \n",
    "prob_carta_8 = 4/52\n",
    "prob_7u8 = prob_carta_7 + prob_carta_8\n",
    "prob_7u8"
   ]
  },
  {
   "cell_type": "markdown",
   "metadata": {},
   "source": [
    "\n",
    "6. La probabilidad de tu país gane el mundial de fútbol.<br>"
   ]
  },
  {
   "cell_type": "code",
   "execution_count": 26,
   "metadata": {},
   "outputs": [
    {
     "data": {
      "text/plain": [
       "0.03125"
      ]
     },
     "execution_count": 26,
     "metadata": {},
     "output_type": "execute_result"
    }
   ],
   "source": [
    "## 32 países participan del mundial de futbol, por lo que:\n",
    "\n",
    "prob_ganarMundial = 1/32\n",
    "prob_ganarMundial"
   ]
  },
  {
   "cell_type": "markdown",
   "metadata": {},
   "source": [
    "\n",
    "7. Un experimento que tiene tres resultados es repetido 50 veces y se ve que E1 aparece 20 veces, E2 13 veces y E3 17 veces. Asigne probabilidades a los resultados.<br>\n"
   ]
  },
  {
   "cell_type": "code",
   "execution_count": 29,
   "metadata": {},
   "outputs": [
    {
     "name": "stdout",
     "output_type": "stream",
     "text": [
      "0.4 0.26 0.34\n"
     ]
    }
   ],
   "source": [
    "E1 = 20\n",
    "E2 = 13\n",
    "E3 = 17\n",
    "\n",
    "prob_E1 = 20/50\n",
    "prob_E2 = 13/50\n",
    "prob_E3 = 17/50\n",
    "\n",
    "print(prob_E1, prob_E2, prob_E3)"
   ]
  },
  {
   "cell_type": "markdown",
   "metadata": {},
   "source": [
    "\n",
    "\n",
    "## Desafíos complementarios \n",
    "\n",
    "### Investiga e intenta resolver los siguientes ejercicios\n",
    "\n",
    "1. Si la probabilidad de que un cliente pague en efectivo (E) es 6/15, con tarjeta de crédito (TD) es 7/15 y con tarjeta de débito (TD) es 2/15. Hallar la probabilidad de que dos clientes sucesivos que pagan sus cuentas lo hagan:<br>\n",
    " a) el primero en efectivo y el segundo con tarjeta de crédito.<br>\n",
    " b) Los dos clientes en efectivo<br>\n",
    "2. La probabilidad de que un Henry repruebe el M1 de 0.8, de que apruebe M2 es 0.5 y de que repruebe el M3 es de 0.4.<br>\n",
    " (Los eventos no interfieren entre si) <br>\n",
    "\n",
    "![Tabla](../_src/assets/probhenry.PNG)\n",
    "\n",
    "Determinar la probabilidad de que:<br>\n",
    " a) Apruebe un módulo.<br>\n",
    " b) Repruebe las tres materias.\n",
    "\n",
    "Completa la tarea descrita en el archivo [README](https://github.com/soyHenry/Python-Prep/blob/4aec1885136fdcff98899d2be13c8908b39f8b21/02%20-%20Variables%20y%20Tipos%20de%20Datos/Prep_Course_Homework_02.md)"
   ]
  }
 ],
 "metadata": {
  "kernelspec": {
   "display_name": "Python 3.10.7 64-bit",
   "language": "python",
   "name": "python3"
  },
  "language_info": {
   "codemirror_mode": {
    "name": "ipython",
    "version": 3
   },
   "file_extension": ".py",
   "mimetype": "text/x-python",
   "name": "python",
   "nbconvert_exporter": "python",
   "pygments_lexer": "ipython3",
   "version": "3.10.7"
  },
  "orig_nbformat": 4,
  "vscode": {
   "interpreter": {
    "hash": "aee8b7b246df8f9039afb4144a1f6fd8d2ca17a180786b69acc140d282b71a49"
   }
  }
 },
 "nbformat": 4,
 "nbformat_minor": 2
}
