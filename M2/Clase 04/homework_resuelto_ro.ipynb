{
 "cells": [
  {
   "cell_type": "code",
   "execution_count": 1,
   "metadata": {},
   "outputs": [],
   "source": [
    "from math import e, factorial\n",
    "from statistics import NormalDist"
   ]
  },
  {
   "cell_type": "markdown",
   "metadata": {},
   "source": [
    "1. Considera el experimento que consiste en un empleado que arma un producto.\n",
    "  - a. Defina la variable aleatoria que represente el tiempo en minutos requerido para armar el producto.<br>\n",
    "  - b. ¿Qué valores toma la variable aleatoria?<br>\n",
    "  - c. ¿Es una variable aleatoria discreta o continua?<br>"
   ]
  },
  {
   "cell_type": "markdown",
   "metadata": {},
   "source": [
    "1) a. Variable aleatoria normal que indica la cantidad de tiempo en minutos que el empleado se  tarda en armar un producto:\n",
    "    x = tiempo en minutos requerido para armar el producto.\n",
    "\n",
    "    b. Depende del tipo de producto, tomará un valor en minutos. \n",
    "    Cualquier valor positivo: x = 0\n",
    "\n",
    "    c. Es una variable continua, cuantificable y toma valores infinitos dentro de un rango.\n",
    "\n"
   ]
  },
  {
   "cell_type": "markdown",
   "metadata": {},
   "source": [
    "2. Considera el experimento que consiste en lanzar una moneda dos veces.\n",
    "  - a. Enumere los resultados experimentales.\n",
    "  - b. Defina una variable aleatoria que represente el número de caras en los dos lanzamientos.\n",
    "  - c. Dé el valor que la variable aleatoria tomará en cada uno de los resultados experimentales.\n",
    "  - d. ¿Es una variable aleatoria discreta o continua?"
   ]
  },
  {
   "cell_type": "markdown",
   "metadata": {},
   "source": [
    "a. No considero que caiga en lateral.\n",
    "\n",
    "    1) Que en el primer lanzamiento salga cara y en el segundo seca.\n",
    "    2) Que en el primer lanzamiento salga seca y en el segundo cara.\n",
    "    3) Que en el primer lanzamiento salga cara y en el segundo cara.\n",
    "    4) Que en el primer lanzamiento salga seca y en el segundo seca."
   ]
  },
  {
   "cell_type": "code",
   "execution_count": null,
   "metadata": {},
   "outputs": [],
   "source": [
    "C = 'cara'\n",
    "S = 'seca'\n",
    "\n",
    "resul_exper = { 1:[C, S],\n",
    "                2:[S, C],\n",
    "                3:[C, C],\n",
    "                4:[S, S]}"
   ]
  },
  {
   "cell_type": "markdown",
   "metadata": {},
   "source": [
    "b. La variable que elegimos para representar el número de caras en los dos lanzamientos es x.\n",
    "El resultado experimental que lo representa es el número 2 del punto a.\n",
    "\n",
    "x = cantidad de caras en dos lanzamientos\n",
    "\n",
    "c. Las variables aleatorios discretas son las variables que toman valores contables, como es el caso de lanzar dados o monedas. A esta corresponde nuestra variable x.\n",
    "\n",
    "Resultado   Valor de x\n",
    "(C,C)       2\n",
    "(C,S)       1\n",
    "(S,C)       1\n",
    "(S,S)       0\n",
    "\n",
    "d. Es una variable discreta, porque puede tomar tres valores, 0, 1 y 2."
   ]
  },
  {
   "cell_type": "markdown",
   "metadata": {},
   "source": [
    "3. Considera las decisiones de compra de los próximos tres clientes que lleguen a la tienda de ropa Martin Clothing Store. De acuerdo con la experiencia, el gerente de la tienda estima que la probabilidad de que un cliente realice una compra es 0.30. \n",
    "  - a. Describa si cumple con las reglas para clasificarlo como un experimiento binomial.\n",
    "  - b. ¿Cuál es la probabilidad de que dos de los próximos tres clientes realicen una compra?\n",
    "  - c. ¿Cuál es la probabilidad de que cuatro de los próximos diez clientes realicen una compra?"
   ]
  },
  {
   "cell_type": "markdown",
   "metadata": {},
   "source": [
    "a. Reglas para que sea binomial:\n",
    "    -Debe evaluarse para que pase o no pase.\n",
    "    -casos favorables\n",
    "    -equiprobables de antemano\n",
    "    -variables discretas\n",
    "    \n",
    "    -si, compre o no compre\n",
    "    -el 30% son casos favorables\n",
    "    -tienen las mismas chances sea la persona1, 2, o 3\n",
    "    -son numeros enteros  \n",
    "\n",
    "    Si cumple como experimento binomial.\n",
    "\n",
    "    x (número de clientes que realizan una compra)\n",
    "    n (espacio muestral) <- 3\n",
    "    p (probabilidad de éxito) <- 0.30\n",
    "\n",
    "    X        0      1       2       3\n",
    "    P(X=x)   0.34   0.44    0.189   0.027\n",
    "\n",
    "    b) La probabilidad de que dos de los próximos tres clientes realicen una compra es 0.189 (18.9%)\n",
    "    c) La probabilidad de que cuatro de los próximos 10 clientes realicen una compra 0.20(20%)"
   ]
  },
  {
   "cell_type": "code",
   "execution_count": 16,
   "metadata": {},
   "outputs": [],
   "source": [
    "#DISTRIBUCIÓN BINOMIAL\n",
    "def funcion_binomial(k,n,p):\n",
    "  num_exitos = factorial(n) \n",
    "  num_eventos = factorial (k) * factorial(n-k) \n",
    "  exitos_fracaso = pow(p,k) * pow(1-p,(n-k)) \n",
    "\n",
    "  binomial = (num_exitos / num_eventos) * exitos_fracaso\n",
    "\n",
    "  return binomial\n"
   ]
  },
  {
   "cell_type": "code",
   "execution_count": 23,
   "metadata": {},
   "outputs": [
    {
     "name": "stdout",
     "output_type": "stream",
     "text": [
      "0.20012094899999994\n"
     ]
    }
   ],
   "source": [
    "print(funcion_binomial(4,10,0.30))"
   ]
  },
  {
   "cell_type": "markdown",
   "metadata": {},
   "source": [
    "4.  A la oficina de reservaciones de una aerolínea regional llegan 48 llamadas por hora.\n",
    "- a. Calcule la probabilidad de recibir cinco llamadas en un lapso de 5 minutos.\n",
    "- b. Estime la probabilidad de recibir exactamente 10 llamadas en un lapso de 15 minutos.\n",
    "- c. Suponga que no hay ninguna llamada en espera. Si el agente de viajes necesitará 5 minutos para la llamada que está atendiendo, ¿cuántas llamadas habrá en espera para cuando él termine? ¿Cuál es la probabilidad de que no haya ninguna llamada en espera?\n",
    "- d. Si en este momento no hay ninguna llamada, ¿cuál es la probabilidad de que el agente de viajes pueda tomar 3 minutos de descanso sin ser interrumpido por una llamada?"
   ]
  },
  {
   "cell_type": "markdown",
   "metadata": {},
   "source": [
    "a. Uso Poisson\n",
    "\n",
    "valor esperado de las llamadas en 5 minutos: 5 min son 1/12 de hora<- (48*1)/12 = 4\n",
    "lambda (esp_muestral)<-4\n",
    "k=x (número de éxitos)<-5\n",
    "\n",
    "La probabilidad de recibir cinco llamadas en un lapso de 5 minutos es: 0.15 (15%)\n"
   ]
  },
  {
   "cell_type": "code",
   "execution_count": 24,
   "metadata": {},
   "outputs": [],
   "source": [
    "#DISTRIBUCIÓN DE POISSON\n",
    "def probabilidad_poisson(lamba_np,x):\n",
    "     probabilidad = (pow(e,-lamba_np) * pow(lamba_np,x))/factorial(x)\n",
    "     return probabilidad"
   ]
  },
  {
   "cell_type": "code",
   "execution_count": 25,
   "metadata": {},
   "outputs": [
    {
     "name": "stdout",
     "output_type": "stream",
     "text": [
      "0.15629345185053173\n"
     ]
    }
   ],
   "source": [
    "print(probabilidad_poisson(4,5))"
   ]
  },
  {
   "cell_type": "markdown",
   "metadata": {},
   "source": [
    "b) Uso Poisson:\n",
    "    Primero calculo el valor esperado<-15 min son 1/4 de hora<-(48*1)/4 = 12\n",
    "\n",
    "    lambda (espacio muestral) <-12\n",
    "    k=x (número de éxitos) <-10\n",
    "\n",
    "    La probabilidad de recibir exactamente 10 llamadas en un lapso de 15 minutos, es 0.10 (10%)."
   ]
  },
  {
   "cell_type": "code",
   "execution_count": 26,
   "metadata": {},
   "outputs": [
    {
     "name": "stdout",
     "output_type": "stream",
     "text": [
      "0.1048372558836594\n"
     ]
    }
   ],
   "source": [
    "print(probabilidad_poisson(12,10))"
   ]
  },
  {
   "cell_type": "markdown",
   "metadata": {},
   "source": [
    "c. Uso Poisson: \n",
    "    Primero calculo el valor esperado (48*1)/12=4\n",
    "    si está en llamada y ocupa 5 minutos es probable que tenga 3 llamadas en espera cuando termine en la que\n",
    "    esta (4 llamadas dentro de los 5 min - 1 llamadas que esestá = 3 llamadas en espera.)\n",
    "\n",
    "    lambda (espacio muestral)<-4\n",
    "    k=x (número de éxitos)<-0 (para que no hayan llamadas en espera)\n",
    "\n",
    "    La probabilidad de que no haya ninguna llamada en espera es 0.018 (1.8%)"
   ]
  },
  {
   "cell_type": "code",
   "execution_count": 27,
   "metadata": {},
   "outputs": [
    {
     "name": "stdout",
     "output_type": "stream",
     "text": [
      "0.018315638888734186\n"
     ]
    }
   ],
   "source": [
    "print(probabilidad_poisson(4,0))"
   ]
  },
  {
   "cell_type": "markdown",
   "metadata": {},
   "source": [
    "d. Uso Poisson: \n",
    "    Valor esperado de las llamadas en 3 minutos, 3 min son 1/20 de hora (48*1)/20=2.4\n",
    "    lambda(espacio muestral)<-2.4\n",
    "    k=x(número de éxitos)<-0 (no sea interrumpido)\n",
    "\n",
    "    La probabilidad de que pueda descansar sin ser interrumpido en ese tiempo es 0.09"
   ]
  },
  {
   "cell_type": "code",
   "execution_count": 28,
   "metadata": {},
   "outputs": [
    {
     "name": "stdout",
     "output_type": "stream",
     "text": [
      "0.09071795328941253\n"
     ]
    }
   ],
   "source": [
    "print(probabilidad_poisson(2.4,0))"
   ]
  },
  {
   "cell_type": "markdown",
   "metadata": {},
   "source": [
    "5. En una encuesta realizada por Gallup Organization, se les preguntó a los interrogados, “Cuál es el deporte que prefieres ver”. Futbol y básquetbol ocuparon el primero y segundo lugar de preferencia (www.gallup.com, 3 de enero de 2004). Si en un grupo de 10 individuos, siete prefieren futbol y tres prefieren básquetbol. Se toma una muestra aleatoria de tres de estas personas.\n",
    "- a. ¿Cuál es la probabilidad de que exactamente dos prefieren el futbol?\n",
    "- b. ¿De que la mayoría (ya sean dos o tres) prefiere el futbol?"
   ]
  }
 ],
 "metadata": {
  "kernelspec": {
   "display_name": "Python 3.11.0 64-bit",
   "language": "python",
   "name": "python3"
  },
  "language_info": {
   "codemirror_mode": {
    "name": "ipython",
    "version": 3
   },
   "file_extension": ".py",
   "mimetype": "text/x-python",
   "name": "python",
   "nbconvert_exporter": "python",
   "pygments_lexer": "ipython3",
   "version": "3.11.0"
  },
  "orig_nbformat": 4,
  "vscode": {
   "interpreter": {
    "hash": "a02208d79a898251764ffbf7bfc9eb58c8e7c1aad2850df5891a4dfed7f8fbeb"
   }
  }
 },
 "nbformat": 4,
 "nbformat_minor": 2
}
