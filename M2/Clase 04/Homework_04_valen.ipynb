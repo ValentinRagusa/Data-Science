{
 "cells": [
  {
   "cell_type": "markdown",
   "metadata": {},
   "source": [
    "## Homework <br>\n",
    "\n",
    "1. Considera el experimento que consiste en un empleado que arma un producto.\n",
    "  - a. Defina la variable aleatoria que represente el tiempo en minutos requerido para armar el producto.<br>\n",
    "  - b. ¿Qué valores toma la variable aleatoria?<br>\n",
    "  - c. ¿Es una variable aleatoria discreta o continua?\n"
   ]
  },
  {
   "cell_type": "code",
   "execution_count": 8,
   "metadata": {},
   "outputs": [
    {
     "name": "stdout",
     "output_type": "stream",
     "text": [
      "a) x: Representa el tiempo en minutos requerido para armar el producto.\n",
      "b) Tomará cualquier valor mayor a cero.\n",
      "c) Es una variable continua porque varía constantemente y puede tomar valores infinitos dentro de un rango.\n"
     ]
    }
   ],
   "source": [
    "## a)\n",
    "x = \"Representa el tiempo en minutos requerido para armar el producto\"\n",
    "print(f'a) x: {x}.')\n",
    "## b)\n",
    "print('b) Tomará cualquier valor mayor a cero.')\n",
    "\n",
    "## c)\n",
    "print('c) Es una variable continua porque varía constantemente y puede tomar valores infinitos dentro de un rango.')"
   ]
  },
  {
   "cell_type": "markdown",
   "metadata": {},
   "source": [
    "2. Considera el experimento que consiste en lanzar una moneda dos veces.\n",
    "  - a. Enumere los resultados experimentales.\n",
    "  - b. Defina una variable aleatoria que represente el número de caras en los dos lanzamientos.\n",
    "  - c. Dé el valor que la variable aleatoria tomará en cada uno de los resultados experimentales.\n",
    "  - d. ¿Es una variable aleatoria discreta o continua?\n"
   ]
  },
  {
   "cell_type": "code",
   "execution_count": 12,
   "metadata": {},
   "outputs": [
    {
     "name": "stdout",
     "output_type": "stream",
     "text": [
      "a) Los resultados experimentales son 2: Cara o Cruz.\n",
      "b) Los posibles resultados son: ('Cara', 'Cara'), ('Cara', 'Cruz'), ('Cruz', 'Cruz') o ('Cruz', 'Cara').\n",
      "c) Tomara el resultado: [1,2,3 o 4].\n",
      "d) Es una variable aleatoria discreta ya que toma un numero finito de valores (1, 2, 3 o 4).\n"
     ]
    }
   ],
   "source": [
    "## a)\n",
    "cr = 'Cara'\n",
    "cz = 'Cruz'\n",
    "print(f'a) Los resultados experimentales son 2: {cr} o {cz}.')\n",
    "\n",
    "## b)\n",
    "resultados = {\n",
    "                1: (cr, cr),\n",
    "                2: (cr, cz),\n",
    "                3: (cz, cz),\n",
    "                4: (cz, cr)}\n",
    "\n",
    "## x = p(x) = 0\n",
    "\n",
    "print(f'b) Los posibles resultados son: {resultados[1]}, {resultados[2]}, {resultados[3]} o {resultados[4]}.')\n",
    "\n",
    "## c)\n",
    "resultados_C = {\n",
    "                1: [(cr, cr), 1],\n",
    "                2: [(cr, cz), 2],\n",
    "                3: [(cz, cz), 3],\n",
    "                4: [(cz, cr), 4]}\n",
    "\n",
    "print('c) Tomara el resultado: [1,2,3 o 4].')\n",
    "\n",
    "## d)\n",
    "print('d) Es una variable aleatoria discreta ya que toma un numero finito de valores (1, 2, 3 o 4).')\n"
   ]
  },
  {
   "cell_type": "markdown",
   "metadata": {},
   "source": [
    "3. Considera las decisiones de compra de los próximos tres clientes que lleguen a la tienda de ropa Martin Clothing Store. De acuerdo con la experiencia, el gerente de la tienda estima que la probabilidad de que un cliente realice una compra es 0.30. \n",
    "  - a. Describa si cumple con las reglas para clasificarlo como un experimiento binomial.\n",
    "  - b. ¿Cuál es la probabilidad de que dos de los próximos tres clientes realicen una compra?\n",
    "  - c. ¿Cuál es la probabilidad de que cuatro de los próximos diez clientes realicen una compra?\n"
   ]
  },
  {
   "cell_type": "code",
   "execution_count": 18,
   "metadata": {},
   "outputs": [
    {
     "name": "stdout",
     "output_type": "stream",
     "text": [
      "a) Si, cumple con las reglas para clasificarlo como experimento binomial. En este ensayo, solamente hay dos posibilidades (el cliente compra, o no compra), la probabilidad de exito no cambia de un ensayo a otro, y los ensayos son independientes.\n",
      "b) La probabilidad de que 2 de los proximos 3 clientes realicen una compra es de: 0.189.\n",
      "c) La probabilidad de que 4 de los proximos 10 clientes realicen una compra es de: 0.2.\n"
     ]
    }
   ],
   "source": [
    "## a)\n",
    "print('a) Si, cumple con las reglas para clasificarlo como experimento binomial. En este ensayo, solamente hay dos posibilidades (el cliente compra, o no compra), la probabilidad de exito no cambia de un ensayo a otro, y los ensayos son independientes.')\n",
    "\n",
    "## b)\n",
    "from math import factorial\n",
    "def funcion_binomial(k,n,p):\n",
    "  num_exitos = factorial(n) #Factorial de la cantidad de casos de éxito buscados.\n",
    "  num_eventos = factorial (k) * factorial(n-k) #Factorial del espacio muestral.\n",
    "  exitos_fracaso=pow(p,k) * pow(1-p,(n-k)) # Probabilidad de exitos y fracasos.\n",
    "\n",
    "  binomial = (num_exitos / num_eventos) * exitos_fracaso #Aplicación de la función binomial.\n",
    "\n",
    "  return binomial\n",
    "\n",
    "print(f'b) La probabilidad de que 2 de los proximos 3 clientes realicen una compra es de: {funcion_binomial(2, 3, 0.3)}.')\n",
    "\n",
    "## c)\n",
    "print(f'c) La probabilidad de que 4 de los proximos 10 clientes realicen una compra es de: {round(funcion_binomial(4, 10, 0.3), 3)}.')\n"
   ]
  },
  {
   "cell_type": "markdown",
   "metadata": {},
   "source": [
    "4.  A la oficina de reservaciones de una aerolínea regional llegan 48 llamadas por hora.\n",
    "- a. Calcule la probabilidad de recibir cinco llamadas en un lapso de 5 minutos.\n",
    "- b. Estime la probabilidad de recibir exactamente 10 llamadas en un lapso de 15 minutos.\n",
    "- c. Suponga que no hay ninguna llamada en espera. Si el agente de viajes necesitará 5 minutos para la llamada que está atendiendo, ¿cuántas llamadas habrá en espera para cuando él termine? ¿Cuál es la probabilidad de que no haya ninguna llamada en espera?\n",
    "- d. Si en este momento no hay ninguna llamada, ¿cuál es la probabilidad de que el agente de viajes pueda tomar 3 minutos de descanso sin ser interrumpido por una llamada?\n"
   ]
  },
  {
   "cell_type": "code",
   "execution_count": 27,
   "metadata": {},
   "outputs": [
    {
     "name": "stdout",
     "output_type": "stream",
     "text": [
      "a) La probabilidad de recibir cinco llamadas en un lapso de 5 minutos es de: 0.1563.\n",
      "b) La probabilidad de recibir diez llamadas en un lapso de 15 minutos es de: 0.1048.\n",
      "c) La probabilidad de que no haya ninguna llamada en espera es de 0.0183.\n",
      "d) La probabilidad de que pueda tener un descanso sin ser interrumpido es de: 0.0907.\n"
     ]
    }
   ],
   "source": [
    "## a)\n",
    "from math import e,factorial\n",
    "def probabilidad_poisson(lamba_np, x):\n",
    "     probabilidad = (pow(e,-lamba_np) * pow(lamba_np,x))/factorial(x)\n",
    "     return probabilidad\n",
    "\n",
    "## primero calcular el valor esperado.\n",
    "# 5 minutos = 1/12 hs. -> (48)*1/12 = 4\n",
    "print(f'a) La probabilidad de recibir cinco llamadas en un lapso de 5 minutos es de: {round(probabilidad_poisson(4, 5), 4)}.')\n",
    "\n",
    "## b)\n",
    "# primero calcular el valor esperado.\n",
    "# 15 minutos = 1/4 hs. -> (48)*1/4 = 12\n",
    "print(f'b) La probabilidad de recibir diez llamadas en un lapso de 15 minutos es de: {round(probabilidad_poisson(12, 10), 4)}.')\n",
    "\n",
    "## c)\n",
    "## Se supone que la llamada en la que se encuentra le tomará 5 minutos. Calculamos el valor esperado: 5 minutos = 1/12 hs. -> (48)*1/12 = 4. Se esperan 4 llamadas en un lapso de 5 minutos, pero como el se encuentra ya en una, tendrá 3 llamadas esperando cuando cuelgue la que se encuentra: \n",
    "print(f'c) La probabilidad de que no haya ninguna llamada en espera es de {round(probabilidad_poisson(4, 0), 4)}.')\n",
    "\n",
    "## d)\n",
    "# Aplicamos misma logica que en el ejercicio anterior, solo que nuestro valor esperado se modifica debido a que los minutos son diferentes. Procedemos luego a calcular la probabilidad de que las llamadas sean cero durante el periodo del valor esperado.\n",
    "# 3m = 1/20 hs -> V_esp = (48/20) = 2.4\n",
    "print(f'd) La probabilidad de que pueda tener un descanso sin ser interrumpido es de: {round(probabilidad_poisson(2.4, 0), 4)}.')"
   ]
  },
  {
   "cell_type": "markdown",
   "metadata": {},
   "source": [
    "5. En una encuesta realizada por Gallup Organization, se les preguntó a los interrogados, “Cuál es el deporte que prefieres ver”. Futbol y básquetbol ocuparon el primero y segundo lugar de preferencia (www.gallup.com, 3 de enero de 2004). Si en un grupo de 10 individuos, siete prefieren futbol y tres prefieren básquetbol. Se toma una muestra aleatoria de tres de estas personas.\n",
    "- a. ¿Cuál es la probabilidad de que exactamente dos prefieren el futbol?\n",
    "- b. ¿De que la mayoría (ya sean dos o tres) prefiere el futbol?\n"
   ]
  },
  {
   "cell_type": "code",
   "execution_count": 30,
   "metadata": {},
   "outputs": [
    {
     "data": {
      "text/plain": [
       "0.18736377022633674"
      ]
     },
     "execution_count": 30,
     "metadata": {},
     "output_type": "execute_result"
    }
   ],
   "source": [
    "from math import factorial\n",
    "\n",
    "N,X,n,x= 80,30,9,2\n",
    "def probabilidad_hipergeometrica(N,X,n,x):\n",
    "  Xx = factorial(X)/(factorial(x)*factorial(X-x))\n",
    "  NX_nx= factorial(N-X)/(factorial(n-x)*factorial((N-X)-(n-x)))\n",
    "  Nn = factorial(N)/(factorial(n)*factorial(N-n))\n",
    "  hipergeometrica = (Xx * NX_nx)/Nn\n",
    "\n",
    "  return hipergeometrica\n",
    "\n",
    "probabilidad_hipergeometrica(80,30,9,2)"
   ]
  },
  {
   "cell_type": "markdown",
   "metadata": {},
   "source": [
    "6. La probabilidad de que a un estudiante le guste este modulo es de 0.7 (en Henry somos optimistas), cual es la probabilidad de que les guste este módulo a 6 de los 10 estudiantes.<br>\n"
   ]
  },
  {
   "cell_type": "code",
   "execution_count": null,
   "metadata": {},
   "outputs": [],
   "source": []
  },
  {
   "cell_type": "markdown",
   "metadata": {},
   "source": [
    "8. En relación con el enunciado anterior cálcule la probabilidad de que 7 o más lleguen a término.<br>\n",
    "Distribución de Poisson:<br>\n"
   ]
  },
  {
   "cell_type": "code",
   "execution_count": null,
   "metadata": {},
   "outputs": [],
   "source": []
  },
  {
   "cell_type": "markdown",
   "metadata": {},
   "source": [
    "9. La cantidad de alumnos promedio que se ausentan en un día de clases en la carrera de Data Science es de 10. Calcular cual es la probabilidad de que se ausenten 7 alumnos.<br>\n"
   ]
  },
  {
   "cell_type": "code",
   "execution_count": null,
   "metadata": {},
   "outputs": [],
   "source": []
  },
  {
   "cell_type": "markdown",
   "metadata": {},
   "source": [
    "10. Cuando inicia una clase, los estudiantes ingresan a un ritmo de 5 estudiantes por minuto. Calcular cual es la probabilidad de que ingresen 7 estudiantes por minuto.<br>\n",
    "\n"
   ]
  },
  {
   "cell_type": "code",
   "execution_count": null,
   "metadata": {},
   "outputs": [],
   "source": []
  },
  {
   "cell_type": "markdown",
   "metadata": {},
   "source": [
    "## Ejercicios complementarios <br>\n",
    "\n",
    "11. Cada 3 días ingresan 10 estudiantes nuevos al Prep Course de Henry, calcule la probabilidad de que ingresen 15 nuevos estudiantes en un período de 6 días.<br>\n",
    "12. En una distribución de Poisson de lamba_np=3, cual es la probabilidad de x>=1.<br>\n",
    "Distribución Normal:<br>\n",
    "13. La calificación promedio de los estudiantes de Henry es de 78 con una desviación estandar de 25. Cual es la probabilidad de tener estudiantes con calificaciones mayores o iguales 90.\n",
    "\n",
    "Tablas de Distribución [tablas](https://github.com/soyHenry/DS-M2/blob/3aae1f7b63bf723a96a8094a2e1598e69bb10b34/Clase%2006/Tablas%20Distribuci%C3%B3n.pdf)"
   ]
  },
  {
   "cell_type": "code",
   "execution_count": null,
   "metadata": {},
   "outputs": [],
   "source": []
  }
 ],
 "metadata": {
  "kernelspec": {
   "display_name": "Python 3.10.7 64-bit",
   "language": "python",
   "name": "python3"
  },
  "language_info": {
   "codemirror_mode": {
    "name": "ipython",
    "version": 3
   },
   "file_extension": ".py",
   "mimetype": "text/x-python",
   "name": "python",
   "nbconvert_exporter": "python",
   "pygments_lexer": "ipython3",
   "version": "3.10.7"
  },
  "orig_nbformat": 4,
  "vscode": {
   "interpreter": {
    "hash": "aee8b7b246df8f9039afb4144a1f6fd8d2ca17a180786b69acc140d282b71a49"
   }
  }
 },
 "nbformat": 4,
 "nbformat_minor": 2
}
